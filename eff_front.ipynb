{
 "cells": [
  {
   "cell_type": "code",
   "execution_count": 87,
   "id": "b6637ed9",
   "metadata": {},
   "outputs": [],
   "source": [
    "# -*- coding: utf-8 -*-\n",
    "\"\"\"\n",
    "Created on Tue Nov 15 01:41:26 2022\n",
    "\n",
    "@author: timyu\n",
    "\"\"\"\n",
    "\n",
    "import numpy as np\n",
    "import datetime as dt\n",
    "import pandas as pd\n",
    "import scipy.optimize as sc\n",
    "import plotly.graph_objects as go\n",
    "import matplotlib.pyplot as plt\n",
    "\n",
    "from pandas_datareader import data as pdr\n",
    "\n",
    "def getData(stocks, start, end):\n",
    "    stockData = pdr.get_data_yahoo(stocks, start=start, end=end)\n",
    "    stockData = stockData['Close']\n",
    "    returns = stockData.pct_change()\n",
    "    meanReturns = returns.mean()\n",
    "    covMatrix = returns.cov()\n",
    "    return meanReturns, covMatrix\n",
    "\n",
    "\n",
    "def portfolioPerformance(weights, meanReturns, covMatrix):\n",
    "    returns = np.sum(meanReturns*weights)*252\n",
    "    std = np.sqrt(np.dot(weights.T,np.dot(covMatrix, weights)))*np.sqrt(252)\n",
    "    return returns, std\n",
    "\n",
    "\n",
    "def negativeSR(weights, meanReturns, covMatrix, riskFreeRate = 0):\n",
    "    pReturns, pStd = portfolioPerformance(weights, meanReturns, covMatrix)\n",
    "    return - (pReturns - riskFreeRate)/pStd\n",
    "\n",
    "def maxSR(meanReturns, covMatrix, riskFreeRate = 0, constraintSet=(0,1)):\n",
    "    \"Minimize the negative SR, by altering the weights of the portfolio\"\n",
    "    numAssets = len(meanReturns)\n",
    "    args = (meanReturns, covMatrix, riskFreeRate)\n",
    "    constraints = ({'type': 'eq', 'fun': lambda x: np.sum(x) - 1})\n",
    "    bound = constraintSet\n",
    "    bounds = tuple(bound for asset in range(numAssets))\n",
    "    result = sc.minimize(negativeSR, numAssets*[1./numAssets], args=args,\n",
    "                         method='SLSQP', bounds=bounds, constraints=constraints)\n",
    "    return result\n",
    "\n",
    "def portfolioVariance(weights, meanReturns, covMatrix):\n",
    "    return portfolioPerformance(weights, meanReturns, covMatrix)[1]\n",
    "def minimizeVariance(meanReturns, covMatrix, constraintSet=(0,1)):\n",
    "    \"\"\"Minimize the portfolio variance by altering the \n",
    "     weights/allocation of assets in the portfolio\"\"\"\n",
    "    numAssets = len(meanReturns)\n",
    "    args = (meanReturns, covMatrix)\n",
    "    constraints = ({'type': 'eq', 'fun': lambda x: np.sum(x) - 1})\n",
    "    bound = constraintSet\n",
    "    bounds = tuple(bound for asset in range(numAssets))\n",
    "    result = sc.minimize(portfolioVariance, numAssets*[1./numAssets], args=args,\n",
    "                        method='SLSQP', bounds=bounds, constraints=constraints)\n",
    "    return result\n",
    "\n",
    "def portfolioReturn(weights, meanReturns, covMatrix):\n",
    "        return portfolioPerformance(weights, meanReturns, covMatrix)[0]\n",
    "\n",
    "def efficientOpt(meanReturns, covMatrix, returnTarget, constraintSet=(0,1)):\n",
    "    \"\"\"For each returnTarget, we want to optimise the portfolio for min variance\"\"\"\n",
    "    numAssets = len(meanReturns)\n",
    "    args = (meanReturns, covMatrix)\n",
    "    constraints = ({'type':'eq', 'fun': lambda x: portfolioReturn(x, meanReturns, covMatrix) - returnTarget},\n",
    "                   {'type': 'eq', 'fun': lambda x: np.sum(x) - 1})\n",
    "    bound = constraintSet\n",
    "    bounds = tuple(bound for asset in range(numAssets))\n",
    "    effOpt = sc.minimize(portfolioVariance, numAssets*[1./numAssets], args=args, method = 'SLSQP', bounds=bounds, constraints=constraints)\n",
    "    return effOpt\n",
    "\n",
    "\n",
    "def calculatedResults(meanReturns, covMatrix, riskFreeRate=0, constraintSet=(0,1)):\n",
    "    \"\"\"Read in mean, cov matrix, and other financial information\n",
    "        Output, Max SR , Min Volatility, efficient frontier \"\"\"\n",
    "    # Max Sharpe Ratio Portfolio\n",
    "    maxSR_Portfolio = maxSR(meanReturns, covMatrix)\n",
    "    maxSR_returns, maxSR_std = portfolioPerformance(maxSR_Portfolio['x'], meanReturns, covMatrix)\n",
    "    maxSR_allocation = pd.DataFrame(maxSR_Portfolio['x'], index=meanReturns.index, columns=['allocation'])\n",
    "    maxSR_allocation.allocation = [round(i*100,0) for i in maxSR_allocation.allocation]\n",
    "    \n",
    "    # Min Volatility Portfolio\n",
    "    minVol_Portfolio = minimizeVariance(meanReturns, covMatrix)\n",
    "    minVol_returns, minVol_std = portfolioPerformance(minVol_Portfolio['x'], meanReturns, covMatrix)\n",
    "    minVol_allocation = pd.DataFrame(minVol_Portfolio['x'], index=meanReturns.index, columns=['allocation'])\n",
    "    minVol_allocation.allocation = [round(i*100,0) for i in minVol_allocation.allocation]\n",
    "    \n",
    "    # Efficient Frontier\n",
    "    efficientList = []\n",
    "    targetReturns = np.linspace(minVol_returns, maxSR_returns, 20)\n",
    "    for target in targetReturns:\n",
    "        efficientList.append(efficientOpt(meanReturns, covMatrix, target)['fun'])\n",
    "        \n",
    "    maxSR_returns, maxSR_std = round(maxSR_returns*100,2), round(maxSR_std*100,2)\n",
    "    minVol_returns, minVol_std = round(minVol_returns*100,2), round(minVol_std*100,2)\n",
    "    return maxSR_returns, maxSR_std, maxSR_allocation, minVol_returns, minVol_std, minVol_allocation, efficientList, targetReturns\n",
    "\n",
    "\n",
    "def EF_graph(meanReturns, covMatrix, riskFreeRate=0, constraintSet=(0,1)):\n",
    "    \"\"\"Return a graph ploting the min vol, max sr and efficient frontier\"\"\"\n",
    "    maxSR_returns, maxSR_std, maxSR_allocation, minVol_returns, minVol_std, minVol_allocation, efficientList, targetReturns = calculatedResults(meanReturns, covMatrix, riskFreeRate, constraintSet)\n",
    "    #Max SR\n",
    "    MaxSharpeRatio = go.Scatter(\n",
    "        name='Maximium Sharpe Ratio',\n",
    "        mode='markers',\n",
    "        x=[maxSR_std],\n",
    "        y=[maxSR_returns],\n",
    "        marker=dict(color='red',size=14,line=dict(width=3, color='black'))\n",
    "    )\n",
    "    #Min Vol\n",
    "    MinVol = go.Scatter(\n",
    "        name='Mininium Volatility',\n",
    "        mode='markers',\n",
    "        x=[minVol_std],\n",
    "        y=[minVol_returns],\n",
    "        marker=dict(color='green',size=14,line=dict(width=3, color='black'))\n",
    "    )\n",
    "    #Efficient Frontier\n",
    "    EF_curve = go.Scatter(\n",
    "        name='Efficient Frontier',\n",
    "        mode='lines',\n",
    "        x=[round(ef_std*100, 2) for ef_std in efficientList],\n",
    "        y=[round(target*100, 2) for target in targetReturns],\n",
    "        line=dict(color='black', width=4, dash='dashdot')\n",
    "    )\n",
    "    \n",
    "    data = [MaxSharpeRatio, MinVol, EF_curve]\n",
    "    layout = go.Layout(\n",
    "        title = 'Portfolio Optimisation with the Efficient Frontier',\n",
    "        yaxis = dict(title='Annualised Return (%)'),\n",
    "        xaxis = dict(title='Annualised Volatility (%)'),\n",
    "        showlegend = True,\n",
    "        legend = dict(\n",
    "            x = 0.75, y = 0, traceorder='normal',\n",
    "            bgcolor='#E2E2E2',\n",
    "            bordercolor='black',\n",
    "            borderwidth=2),\n",
    "        width=800,\n",
    "        height=600)\n",
    "    \n",
    "    fig = go.Figure(data=data, layout=layout)\n",
    "    return fig.show()\n",
    "\n",
    "\n",
    "\n",
    "\n",
    "def rsltFun(meanReturns, covMatrix, riskFreeRate=0, constraintSet=(0,1)):\n",
    "    \"\"\"Read in mean, cov matrix, and other financial information\n",
    "        Output, Max SR , Min Volatility, efficient frontier \"\"\"\n",
    "    # Max Sharpe Ratio Portfolio\n",
    "    maxSR_Portfolio = maxSR(meanReturns, covMatrix)\n",
    "    maxSR_returns, maxSR_std = portfolioPerformance(maxSR_Portfolio['x'], meanReturns, covMatrix)\n",
    "    maxSR_allocation = pd.DataFrame(maxSR_Portfolio['x'], index=meanReturns.index, columns=['allocation'])\n",
    "    maxSR_allocation.allocation = [round(i*100,0) for i in maxSR_allocation.allocation]\n",
    "    \n",
    "    # Min Volatility Portfolio\n",
    "    minVol_Portfolio = minimizeVariance(meanReturns, covMatrix)\n",
    "    minVol_returns, minVol_std = portfolioPerformance(minVol_Portfolio['x'], meanReturns, covMatrix)\n",
    "    minVol_allocation = pd.DataFrame(minVol_Portfolio['x'], index=meanReturns.index, columns=['allocation'])\n",
    "    minVol_allocation.allocation = [round(i*100,0) for i in minVol_allocation.allocation]\n",
    "    \n",
    "    # Efficient Frontier\n",
    "    efficientList = []\n",
    "    targetReturns = np.linspace(minVol_returns, maxSR_returns, 20)\n",
    "    for target in targetReturns:\n",
    "        efficientList.append(efficientOpt(meanReturns, covMatrix, target)['fun'])\n",
    "        \n",
    "    maxSR_returns, maxSR_std = round(maxSR_returns*100,2), round(maxSR_std*100,2)\n",
    "    minVol_returns, minVol_std = round(minVol_returns*100,2), round(minVol_std*100,2)\n",
    "    rslt = [maxSR_returns, maxSR_std, maxSR_allocation, minVol_returns, minVol_std, minVol_allocation, efficientList, targetReturns, riskFreeRate]\n",
    "    return rslt\n",
    "\n",
    "def rsltOutput(rslt, startDate, endDate):\n",
    "    \"\"\"Return a graph ploting the min vol, max sr and efficient frontier\"\"\"\n",
    "    maxSR_returns = rslt[0] \n",
    "    maxSR_std = rslt[1]\n",
    "    maxSR_allocation = rslt[2]\n",
    "    minVol_returns = rslt[3]\n",
    "    minVol_std = rslt[4]\n",
    "    minVol_allocation = rslt[5]\n",
    "    riskFreeRate = rslt[8]\n",
    "    \n",
    "    maxSR_allocation = maxSR_allocation.T\n",
    "    minVol_allocation = minVol_allocation.T\n",
    "    \n",
    "    allocation = pd.concat([maxSR_allocation, minVol_allocation])\n",
    "    allocation.insert(0, \"Portfolio Composition (%)\", [\"Max SR\", \"Min Vol\"], True)\n",
    "    \n",
    "    info = pd.DataFrame({'Start Date': [startDate.strftime('%Y-%m-%d')],\n",
    "                         'End Date': [endDate.strftime('%Y-%m-%d')],\n",
    "                         'Risk Free Rate': [riskFreeRate]})\n",
    "    \n",
    "    returnVol = pd.DataFrame({'Portfolio': [\"Max SR\", \"Min Vol\"],\n",
    "                              'Sharpe Ratio': [maxSR_returns/maxSR_std, minVol_returns/minVol_std],\n",
    "                              'Returns (%)': [maxSR_returns, minVol_returns],\n",
    "                              'Volotility (%)': [maxSR_std, minVol_std],})\n",
    "    \n",
    "    return(info, returnVol, allocation)\n",
    "\n",
    "\n",
    "def EFPlot(meanReturns, covMatrix, rslt):\n",
    "    \"\"\"Return a graph ploting the min vol, max sr and efficient frontier\"\"\"\n",
    "    maxSR_returns = rslt[0] \n",
    "    maxSR_std = rslt[1]\n",
    "    minVol_returns = rslt[3]\n",
    "    minVol_std = rslt[4]\n",
    "    efficientList = rslt[6]\n",
    "    targetReturns = rslt[7]\n",
    "    \n",
    "    stocks = list(meanReturns.index)\n",
    "    \n",
    "    returns = round(meanReturns*252*100, 2)\n",
    "    std = np.round(np.sqrt(np.diag(covMatrix.values)*252)*100, 2)\n",
    "    stockDf = pd.DataFrame({'Name': stocks,\n",
    "                            'Returns': list(returns),\n",
    "                            'Vol': list(std)})\n",
    "    \n",
    "    \n",
    "    returnVol = pd.DataFrame({'Name': [\"Max SR\", \"Min Vol\"],\n",
    "                              'Returns': [maxSR_returns, minVol_returns],\n",
    "                              'Vol': [maxSR_std, minVol_std],})\n",
    "    \n",
    "    df_EF = pd.DataFrame({'Returns': [round(target*100, 2) for target in targetReturns],\n",
    "                          'Vol': [round(ef_std*100, 2) for ef_std in efficientList]})\n",
    "    \n",
    "    plt.figure(figsize=(10,8))\n",
    "    plt.plot(df_EF['Vol'], df_EF['Returns'], 'k--', label=\"Efficient Frontier\")\n",
    "    plt.plot(returnVol['Vol'][0], returnVol['Returns'][0], 'go', label=\"Max Sharpe Ratio\")\n",
    "    plt.plot(returnVol['Vol'][1], returnVol['Returns'][1], 'co', label=\"Min Volatility\")\n",
    "    '''\n",
    "    for i in range(len(returnVol)):\n",
    "        plt.text(returnVol['Vol'][i], returnVol['Returns'][i], returnVol['Name'][i],\n",
    "                 #bbox=dict(facecolor='blue', alpha=0.3),\n",
    "                 horizontalalignment='left',\n",
    "                 verticalalignment='bottom',\n",
    "                 fontsize='small')\n",
    "    '''\n",
    "    plt.plot(stockDf['Vol'], stockDf['Returns'], 'bo')\n",
    "    for i in range(len(stockDf)):\n",
    "        plt.text(stockDf['Vol'][i], stockDf['Returns'][i], stockDf['Name'][i],\n",
    "                 #bbox=dict(facecolor='blue', alpha=0.3),\n",
    "                 horizontalalignment='left',\n",
    "                 verticalalignment='bottom',\n",
    "                 fontsize='medium')\n",
    "    plt.legend()\n",
    "    plt.xlabel(\"Annualized Volatility (%)\")\n",
    "    plt.ylabel(\"Annualized Return (%)\")\n",
    "    \n",
    "    return plt.show()\n",
    "\n",
    "# 252 trading days per year \n",
    "days = 30\n",
    "endDate = dt.datetime.now()\n",
    "startDate = endDate - dt.timedelta(days=days)"
   ]
  },
  {
   "cell_type": "code",
   "execution_count": 88,
   "id": "6b377102",
   "metadata": {},
   "outputs": [],
   "source": [
    "stockList = ['GE', 'JPM', 'GOOG', 'AAPL', 'TSLA']\n",
    "#stockList_US = ['GE', 'AAPL']\n",
    "stocks = stockList\n",
    "\n",
    "meanReturns, covMatrix = getData(stocks=stocks, start=startDate, end=endDate)\n",
    "rslt = rsltFun(meanReturns, covMatrix, riskFreeRate=0.03, constraintSet=(0,1))\n",
    "\n",
    "info, returnVol, allocation = rsltOutput(rslt, startDate, endDate)"
   ]
  },
  {
   "cell_type": "code",
   "execution_count": 89,
   "id": "b4590f8f",
   "metadata": {},
   "outputs": [
    {
     "name": "stdout",
     "output_type": "stream",
     "text": [
      "Start Date   End Date  Risk Free Rate\n",
      "2022-10-20 2022-11-19            0.03\n"
     ]
    }
   ],
   "source": [
    "print(info.to_string(index=False))"
   ]
  },
  {
   "cell_type": "code",
   "execution_count": 90,
   "id": "4f2b0fd6",
   "metadata": {},
   "outputs": [
    {
     "name": "stdout",
     "output_type": "stream",
     "text": [
      "Portfolio  Sharpe Ratio  Returns (%)  Volotility (%)\n",
      "   Max SR      8.813133       234.87           26.65\n",
      "  Min Vol      7.798696       191.38           24.54\n"
     ]
    }
   ],
   "source": [
    "print(returnVol.to_string(index=False))"
   ]
  },
  {
   "cell_type": "code",
   "execution_count": 91,
   "id": "aeff88bb",
   "metadata": {},
   "outputs": [
    {
     "name": "stdout",
     "output_type": "stream",
     "text": [
      "Portfolio Composition (%)   GE  JPM  GOOG  AAPL  TSLA\n",
      "                   Max SR 86.0 14.0   0.0   0.0   0.0\n",
      "                  Min Vol 38.0 57.0   5.0   0.0   0.0\n"
     ]
    }
   ],
   "source": [
    "print(allocation.to_string(index=False))"
   ]
  },
  {
   "cell_type": "code",
   "execution_count": 92,
   "id": "777c46d9",
   "metadata": {},
   "outputs": [
    {
     "data": {
      "image/png": "[encoded data removed]",
      "text/plain": [
       "<Figure size 720x576 with 1 Axes>"
      ]
     },
     "metadata": {
      "needs_background": "light"
     },
     "output_type": "display_data"
    }
   ],
   "source": [
    "EFPlot(meanReturns, covMatrix, rslt)"
   ]
  },
  {
   "cell_type": "code",
   "execution_count": 93,
   "id": "55cef22c",
   "metadata": {},
   "outputs": [],
   "source": [
    "stockList = ['510050', '510300', '510180', '512800', '512880']\n",
    "#stockList_CN = ['510050', '512800']\n",
    "stocks = [stock+'.SS' for stock in stockList]\n",
    "\n",
    "meanReturns, covMatrix = getData(stocks=stocks, start=startDate, end=endDate)\n",
    "rslt = rsltFun(meanReturns, covMatrix, riskFreeRate=0.03, constraintSet=(0,1))\n",
    "\n",
    "info, returnVol, allocation = rsltOutput(rslt, startDate, endDate)"
   ]
  },
  {
   "cell_type": "code",
   "execution_count": 94,
   "id": "a693eed0",
   "metadata": {},
   "outputs": [
    {
     "name": "stdout",
     "output_type": "stream",
     "text": [
      "Start Date   End Date  Risk Free Rate\n",
      "2022-10-20 2022-11-19            0.03\n"
     ]
    }
   ],
   "source": [
    "print(info.to_string(index=False))"
   ]
  },
  {
   "cell_type": "code",
   "execution_count": 95,
   "id": "a3e504fc",
   "metadata": {},
   "outputs": [
    {
     "name": "stdout",
     "output_type": "stream",
     "text": [
      "Portfolio  Sharpe Ratio  Returns (%)  Volotility (%)\n",
      "   Max SR      2.428679        64.70           26.64\n",
      "  Min Vol      0.509899        10.56           20.71\n"
     ]
    }
   ],
   "source": [
    "print(returnVol.to_string(index=False))"
   ]
  },
  {
   "cell_type": "code",
   "execution_count": 96,
   "id": "cc4ea5f9",
   "metadata": {},
   "outputs": [
    {
     "name": "stdout",
     "output_type": "stream",
     "text": [
      "Portfolio Composition (%)  510050.SS  510300.SS  510180.SS  512800.SS  512880.SS\n",
      "                   Max SR        0.0        0.0        0.0        0.0      100.0\n",
      "                  Min Vol        0.0        0.0        0.0       88.0       12.0\n"
     ]
    }
   ],
   "source": [
    "print(allocation.to_string(index=False))"
   ]
  },
  {
   "cell_type": "code",
   "execution_count": 97,
   "id": "e2b41c76",
   "metadata": {},
   "outputs": [
    {
     "data": {
      "image/png": "[encoded data removed]",
      "text/plain": [
       "<Figure size 720x576 with 1 Axes>"
      ]
     },
     "metadata": {
      "needs_background": "light"
     },
     "output_type": "display_data"
    }
   ],
   "source": [
    "EFPlot(meanReturns, covMatrix, rslt)"
   ]
  },
  {
   "cell_type": "code",
   "execution_count": null,
   "id": "e88746a9",
   "metadata": {},
   "outputs": [],
   "source": []
  }
 ],
 "metadata": {
  "kernelspec": {
   "display_name": "Python 3 (ipykernel)",
   "language": "python",
   "name": "python3"
  },
  "language_info": {
   "codemirror_mode": {
    "name": "ipython",
    "version": 3
   },
   "file_extension": ".py",
   "mimetype": "text/x-python",
   "name": "python",
   "nbconvert_exporter": "python",
   "pygments_lexer": "ipython3",
   "version": "3.8.12"
  }
 },
 "nbformat": 4,
 "nbformat_minor": 5
}
